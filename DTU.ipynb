{
 "cells": [
  {
   "cell_type": "code",
   "execution_count": 27,
   "metadata": {},
   "outputs": [],
   "source": [
    "import os\n",
    "import shutil\n",
    "from IPython.display import clear_output\n",
    "from timeit import default_timer as timer\n",
    "import datetime"
   ]
  },
  {
   "cell_type": "code",
   "execution_count": 47,
   "metadata": {},
   "outputs": [],
   "source": [
    "class DTU():\n",
    "    def __init__(self):\n",
    "        self.source=\"\"\n",
    "        self.destination=\"\"\n",
    "        self.mediafolder=\"/Volumes\"\n",
    "        self.drives=os.listdir(self.mediafolder)\n",
    "        self.destFolder=\"USB Transfer\"\n",
    "        \n",
    "    def showMenu(self):\n",
    "        print(\"-----MENU-----\")\n",
    "        for i in range(1,6):\n",
    "            if i == 1:\n",
    "                print(\"[1] Show all sources\\n\")\n",
    "\n",
    "            elif i== 2:\n",
    "                print(\"[2] Select source\\n\")\n",
    "\n",
    "            elif i== 3:\n",
    "                print(\"[3] Select Destination\\n\")\n",
    "\n",
    "            elif i== 4:\n",
    "                print(\"[4] Transfer content\\n\")\n",
    "\n",
    "            elif i== 5:\n",
    "                print(\"[5] Exit\\n\")\n",
    "\n",
    "            else:\n",
    "                break\n",
    "\n",
    "        choice = int(input(\"Please select an option: \"))\n",
    "        print(\"--------------\")\n",
    "        return choice\n",
    "\n",
    "    def choiceSelected(self,choice):\n",
    "        try:\n",
    "            \n",
    "            #Show all sources\n",
    "            if choice == 1:\n",
    "                print(\"Availabe sources:\\n\")\n",
    "                for i,source in enumerate(self.drives):\n",
    "                    print(i+1,source)\n",
    "                return\n",
    "\n",
    "            #Select source\n",
    "            elif choice == 2:\n",
    "                print(\"Availabe sources:\\n\")\n",
    "                for i,source in enumerate(self.drives):\n",
    "                    print(i+1,source)\n",
    "\n",
    "                select = self.askChoice(\"Select a source: \")\n",
    "                self.source=self.drives[select-1]\n",
    "                print(\"\\nSource selected!\\n\")\n",
    "                return\n",
    "\n",
    "            #Select dest\n",
    "            elif choice == 3:\n",
    "                print(\"Availabe destinations:\\n\")\n",
    "                for i,source in enumerate(self.drives):\n",
    "                    if source==self.source:\n",
    "                        continue\n",
    "                    print(i+1,source)\n",
    "\n",
    "                select = self.askChoice(\"Select a destination: \")\n",
    "                self.destination=self.drives[select-1]\n",
    "                print(\"\\nDestination selected!\\n\")\n",
    "                return\n",
    "\n",
    "            #Transfer content\n",
    "            elif choice == 4:\n",
    "                print(\"[1] Transfer all content\\n\",\"\\n[2] Select content to transfer\")\n",
    "                ch=self.askChoice(\"\\nChoose an option: \")\n",
    "                if ch == 1:\n",
    "                    start = timer()\n",
    "                    files = os.listdir(os.path.join(self.mediafolder,self.source))\n",
    "                    destinationDir = os.path.join(self.mediafolder,self.destination,self.destFolder + str(datetime.datetime.now().time()))\n",
    "                    sourceDir = os.path.join(self.mediafolder,self.source)\n",
    "                    # paste commented code here\n",
    "                    for f in files:\n",
    "                        print(f)\n",
    "                        if os.path.isdir(os.path.join(sourceDir,f)):\n",
    "                            print(\"kjfbad\")\n",
    "                            shutil.copytree(os.path.join(sourceDir,f),os.path.join(destinationDir,str(f)))\n",
    "\n",
    "                    end = timer()\n",
    "                    print(\"Time-Elapsed : \" ,end - start,\"sec.\")\n",
    "\n",
    "                elif ch == 2:\n",
    "                    pass\n",
    "                \n",
    "                return\n",
    "\n",
    "            elif choice == 5:\n",
    "                pass\n",
    "\n",
    "        except Exception as e:\n",
    "            print(\"ERROR: \",e)\n",
    "        \n",
    "    def askChoice(self,string):\n",
    "        return int(input(string))"
   ]
  },
  {
   "cell_type": "code",
   "execution_count": 48,
   "metadata": {},
   "outputs": [
    {
     "name": "stdout",
     "output_type": "stream",
     "text": [
      "Welcome to DTU\n"
     ]
    }
   ],
   "source": [
    "print(\"Welcome to DTU\")\n",
    "dtu=DTU()"
   ]
  },
  {
   "cell_type": "code",
   "execution_count": 49,
   "metadata": {},
   "outputs": [
    {
     "name": "stdout",
     "output_type": "stream",
     "text": [
      "-----MENU-----\n",
      "[1] Show all sources\n",
      "\n",
      "[2] Select source\n",
      "\n",
      "[3] Select Destination\n",
      "\n",
      "[4] Transfer content\n",
      "\n",
      "[5] Exit\n",
      "\n",
      "Please select an option: 4\n",
      "--------------\n",
      "('[1] Transfer all content\\n', '\\n[2] Select content to transfer')\n"
     ]
    },
    {
     "ename": "KeyboardInterrupt",
     "evalue": "",
     "output_type": "error",
     "traceback": [
      "\u001b[0;31m---------------------------------------------------------------------------\u001b[0m",
      "\u001b[0;31mKeyboardInterrupt\u001b[0m                         Traceback (most recent call last)",
      "\u001b[0;32m<ipython-input-49-6edab81412f1>\u001b[0m in \u001b[0;36m<module>\u001b[0;34m()\u001b[0m\n\u001b[1;32m      8\u001b[0m \u001b[0;34m\u001b[0m\u001b[0m\n\u001b[1;32m      9\u001b[0m     \u001b[0;31m#On choice selected\u001b[0m\u001b[0;34m\u001b[0m\u001b[0;34m\u001b[0m\u001b[0m\n\u001b[0;32m---> 10\u001b[0;31m     \u001b[0mdtu\u001b[0m\u001b[0;34m.\u001b[0m\u001b[0mchoiceSelected\u001b[0m\u001b[0;34m(\u001b[0m\u001b[0mch\u001b[0m\u001b[0;34m)\u001b[0m\u001b[0;34m\u001b[0m\u001b[0m\n\u001b[0m\u001b[1;32m     11\u001b[0m     \u001b[0mraw_input\u001b[0m\u001b[0;34m(\u001b[0m\u001b[0;34m\"press [ENTER] to continue\"\u001b[0m\u001b[0;34m)\u001b[0m\u001b[0;34m\u001b[0m\u001b[0m\n\u001b[1;32m     12\u001b[0m     \u001b[0mclear_output\u001b[0m\u001b[0;34m(\u001b[0m\u001b[0;34m)\u001b[0m\u001b[0;34m\u001b[0m\u001b[0m\n",
      "\u001b[0;32m<ipython-input-47-8d90965c9a10>\u001b[0m in \u001b[0;36mchoiceSelected\u001b[0;34m(self, choice)\u001b[0m\n\u001b[1;32m     69\u001b[0m             \u001b[0;32melif\u001b[0m \u001b[0mchoice\u001b[0m \u001b[0;34m==\u001b[0m \u001b[0;36m4\u001b[0m\u001b[0;34m:\u001b[0m\u001b[0;34m\u001b[0m\u001b[0m\n\u001b[1;32m     70\u001b[0m                 \u001b[0;32mprint\u001b[0m\u001b[0;34m(\u001b[0m\u001b[0;34m\"[1] Transfer all content\\n\"\u001b[0m\u001b[0;34m,\u001b[0m\u001b[0;34m\"\\n[2] Select content to transfer\"\u001b[0m\u001b[0;34m)\u001b[0m\u001b[0;34m\u001b[0m\u001b[0m\n\u001b[0;32m---> 71\u001b[0;31m                 \u001b[0mch\u001b[0m\u001b[0;34m=\u001b[0m\u001b[0mself\u001b[0m\u001b[0;34m.\u001b[0m\u001b[0maskChoice\u001b[0m\u001b[0;34m(\u001b[0m\u001b[0;34m\"\\nChoose an option: \"\u001b[0m\u001b[0;34m)\u001b[0m\u001b[0;34m\u001b[0m\u001b[0m\n\u001b[0m\u001b[1;32m     72\u001b[0m                 \u001b[0;32mif\u001b[0m \u001b[0mch\u001b[0m \u001b[0;34m==\u001b[0m \u001b[0;36m1\u001b[0m\u001b[0;34m:\u001b[0m\u001b[0;34m\u001b[0m\u001b[0m\n\u001b[1;32m     73\u001b[0m                     \u001b[0mstart\u001b[0m \u001b[0;34m=\u001b[0m \u001b[0mtimer\u001b[0m\u001b[0;34m(\u001b[0m\u001b[0;34m)\u001b[0m\u001b[0;34m\u001b[0m\u001b[0m\n",
      "\u001b[0;32m<ipython-input-47-8d90965c9a10>\u001b[0m in \u001b[0;36maskChoice\u001b[0;34m(self, string)\u001b[0m\n\u001b[1;32m     97\u001b[0m \u001b[0;34m\u001b[0m\u001b[0m\n\u001b[1;32m     98\u001b[0m     \u001b[0;32mdef\u001b[0m \u001b[0maskChoice\u001b[0m\u001b[0;34m(\u001b[0m\u001b[0mself\u001b[0m\u001b[0;34m,\u001b[0m\u001b[0mstring\u001b[0m\u001b[0;34m)\u001b[0m\u001b[0;34m:\u001b[0m\u001b[0;34m\u001b[0m\u001b[0m\n\u001b[0;32m---> 99\u001b[0;31m         \u001b[0;32mreturn\u001b[0m \u001b[0mint\u001b[0m\u001b[0;34m(\u001b[0m\u001b[0minput\u001b[0m\u001b[0;34m(\u001b[0m\u001b[0mstring\u001b[0m\u001b[0;34m)\u001b[0m\u001b[0;34m)\u001b[0m\u001b[0;34m\u001b[0m\u001b[0m\n\u001b[0m",
      "\u001b[0;32m/Users/kamaljain/anaconda3/lib/python2.7/site-packages/ipykernel/ipkernel.pyc\u001b[0m in \u001b[0;36m<lambda>\u001b[0;34m(prompt)\u001b[0m\n\u001b[1;32m    174\u001b[0m             \u001b[0mself\u001b[0m\u001b[0;34m.\u001b[0m\u001b[0m_sys_eval_input\u001b[0m \u001b[0;34m=\u001b[0m \u001b[0mbuiltin_mod\u001b[0m\u001b[0;34m.\u001b[0m\u001b[0minput\u001b[0m\u001b[0;34m\u001b[0m\u001b[0m\n\u001b[1;32m    175\u001b[0m             \u001b[0mbuiltin_mod\u001b[0m\u001b[0;34m.\u001b[0m\u001b[0mraw_input\u001b[0m \u001b[0;34m=\u001b[0m \u001b[0mself\u001b[0m\u001b[0;34m.\u001b[0m\u001b[0mraw_input\u001b[0m\u001b[0;34m\u001b[0m\u001b[0m\n\u001b[0;32m--> 176\u001b[0;31m             \u001b[0mbuiltin_mod\u001b[0m\u001b[0;34m.\u001b[0m\u001b[0minput\u001b[0m \u001b[0;34m=\u001b[0m \u001b[0;32mlambda\u001b[0m \u001b[0mprompt\u001b[0m\u001b[0;34m=\u001b[0m\u001b[0;34m''\u001b[0m\u001b[0;34m:\u001b[0m \u001b[0meval\u001b[0m\u001b[0;34m(\u001b[0m\u001b[0mself\u001b[0m\u001b[0;34m.\u001b[0m\u001b[0mraw_input\u001b[0m\u001b[0;34m(\u001b[0m\u001b[0mprompt\u001b[0m\u001b[0;34m)\u001b[0m\u001b[0;34m)\u001b[0m\u001b[0;34m\u001b[0m\u001b[0m\n\u001b[0m\u001b[1;32m    177\u001b[0m         \u001b[0mself\u001b[0m\u001b[0;34m.\u001b[0m\u001b[0m_save_getpass\u001b[0m \u001b[0;34m=\u001b[0m \u001b[0mgetpass\u001b[0m\u001b[0;34m.\u001b[0m\u001b[0mgetpass\u001b[0m\u001b[0;34m\u001b[0m\u001b[0m\n\u001b[1;32m    178\u001b[0m         \u001b[0mgetpass\u001b[0m\u001b[0;34m.\u001b[0m\u001b[0mgetpass\u001b[0m \u001b[0;34m=\u001b[0m \u001b[0mself\u001b[0m\u001b[0;34m.\u001b[0m\u001b[0mgetpass\u001b[0m\u001b[0;34m\u001b[0m\u001b[0m\n",
      "\u001b[0;32m/Users/kamaljain/anaconda3/lib/python2.7/site-packages/ipykernel/kernelbase.pyc\u001b[0m in \u001b[0;36mraw_input\u001b[0;34m(self, prompt)\u001b[0m\n\u001b[1;32m    702\u001b[0m             \u001b[0mself\u001b[0m\u001b[0;34m.\u001b[0m\u001b[0m_parent_ident\u001b[0m\u001b[0;34m,\u001b[0m\u001b[0;34m\u001b[0m\u001b[0m\n\u001b[1;32m    703\u001b[0m             \u001b[0mself\u001b[0m\u001b[0;34m.\u001b[0m\u001b[0m_parent_header\u001b[0m\u001b[0;34m,\u001b[0m\u001b[0;34m\u001b[0m\u001b[0m\n\u001b[0;32m--> 704\u001b[0;31m             \u001b[0mpassword\u001b[0m\u001b[0;34m=\u001b[0m\u001b[0mFalse\u001b[0m\u001b[0;34m,\u001b[0m\u001b[0;34m\u001b[0m\u001b[0m\n\u001b[0m\u001b[1;32m    705\u001b[0m         )\n\u001b[1;32m    706\u001b[0m \u001b[0;34m\u001b[0m\u001b[0m\n",
      "\u001b[0;32m/Users/kamaljain/anaconda3/lib/python2.7/site-packages/ipykernel/kernelbase.pyc\u001b[0m in \u001b[0;36m_input_request\u001b[0;34m(self, prompt, ident, parent, password)\u001b[0m\n\u001b[1;32m    732\u001b[0m             \u001b[0;32mexcept\u001b[0m \u001b[0mKeyboardInterrupt\u001b[0m\u001b[0;34m:\u001b[0m\u001b[0;34m\u001b[0m\u001b[0m\n\u001b[1;32m    733\u001b[0m                 \u001b[0;31m# re-raise KeyboardInterrupt, to truncate traceback\u001b[0m\u001b[0;34m\u001b[0m\u001b[0;34m\u001b[0m\u001b[0m\n\u001b[0;32m--> 734\u001b[0;31m                 \u001b[0;32mraise\u001b[0m \u001b[0mKeyboardInterrupt\u001b[0m\u001b[0;34m\u001b[0m\u001b[0m\n\u001b[0m\u001b[1;32m    735\u001b[0m             \u001b[0;32melse\u001b[0m\u001b[0;34m:\u001b[0m\u001b[0;34m\u001b[0m\u001b[0m\n\u001b[1;32m    736\u001b[0m                 \u001b[0;32mbreak\u001b[0m\u001b[0;34m\u001b[0m\u001b[0m\n",
      "\u001b[0;31mKeyboardInterrupt\u001b[0m: "
     ]
    }
   ],
   "source": [
    "while(True):\n",
    "    ch = dtu.showMenu()\n",
    "    \n",
    "    #Exit condition\n",
    "    if ch not in [1,2,3,4]:\n",
    "        print(\"Bye for now!\")\n",
    "        break\n",
    "    \n",
    "    #On choice selected\n",
    "    dtu.choiceSelected(ch)\n",
    "    raw_input(\"press [ENTER] to continue\")\n",
    "    clear_output()"
   ]
  },
  {
   "cell_type": "code",
   "execution_count": 33,
   "metadata": {},
   "outputs": [
    {
     "data": {
      "text/plain": [
       "'16:00:11.488906'"
      ]
     },
     "execution_count": 33,
     "metadata": {},
     "output_type": "execute_result"
    }
   ],
   "source": []
  },
  {
   "cell_type": "code",
   "execution_count": null,
   "metadata": {},
   "outputs": [],
   "source": []
  }
 ],
 "metadata": {
  "kernelspec": {
   "display_name": "Python 2",
   "language": "python",
   "name": "python2"
  },
  "language_info": {
   "codemirror_mode": {
    "name": "ipython",
    "version": 2
   },
   "file_extension": ".py",
   "mimetype": "text/x-python",
   "name": "python",
   "nbconvert_exporter": "python",
   "pygments_lexer": "ipython2",
   "version": "2.7.15"
  }
 },
 "nbformat": 4,
 "nbformat_minor": 2
}
