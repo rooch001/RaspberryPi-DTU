{
 "cells": [
  {
   "cell_type": "code",
   "execution_count": 26,
   "metadata": {},
   "outputs": [],
   "source": [
    "import os\n",
    "import shutil\n",
    "from IPython.display import clear_output"
   ]
  },
  {
   "cell_type": "code",
   "execution_count": 21,
   "metadata": {},
   "outputs": [],
   "source": [
    "class DTU():\n",
    "    def __init__(self):\n",
    "        self.source=\"\"\n",
    "        self.destination=\"\"\n",
    "        self.mediafolder=\"/Volumes\"\n",
    "        self.drives=os.listdir(self.mediafolder)\n",
    "        \n",
    "    def showMenu(self):\n",
    "        print(\"-----MENU-----\")\n",
    "        for i in range(1,6):\n",
    "            if i == 1:\n",
    "                print(\"[1] Show all sources\\n\")\n",
    "\n",
    "            elif i== 2:\n",
    "                print(\"[2] Select source\\n\")\n",
    "\n",
    "            elif i== 3:\n",
    "                print(\"[3] Select Destination\\n\")\n",
    "\n",
    "            elif i== 4:\n",
    "                print(\"[4] Transfer content\\n\")\n",
    "\n",
    "            elif i== 5:\n",
    "                print(\"[5] Exit\\n\")\n",
    "\n",
    "            else:\n",
    "                break\n",
    "\n",
    "        choice = int(input(\"Please select an option: \"))\n",
    "        print(\"--------------\")\n",
    "        return choice\n",
    "\n",
    "    def choiceSelected(self,choice):\n",
    "        try:\n",
    "            \n",
    "            if choice == 1:\n",
    "                print(\"Availabe sources:\\n\")\n",
    "                for i,source in enumerate(self.drives):\n",
    "                    print(i+1,source)\n",
    "                return\n",
    "\n",
    "            elif choice == 2:\n",
    "                print(\"Availabe sources:\\n\")\n",
    "                for i,source in enumerate(self.drives):\n",
    "                    print(i+1,source)\n",
    "\n",
    "                select = int(input(\"Select a source: \"))\n",
    "                self.source=self.drives[select-1]\n",
    "                print(\"\\nSource selected!\\n\")\n",
    "                return\n",
    "\n",
    "            elif choice == 3:\n",
    "                print(\"Availabe destinations:\\n\")\n",
    "                for i,source in enumerate(self.drives):\n",
    "                    if source==self.source:\n",
    "                        continue\n",
    "                    print(i+1,source)\n",
    "\n",
    "                select = int(input(\"Select a destination: \"))\n",
    "                self.destination=self.drives[select-1]\n",
    "                print(\"\\nDestination selected!\\n\")\n",
    "                return\n",
    "\n",
    "            elif choice == 4:\n",
    "                print(\"\")\n",
    "\n",
    "            elif choice == 5:\n",
    "                pass\n",
    "\n",
    "        except Exception as e:\n",
    "            print(\"ERROR: \",e)"
   ]
  },
  {
   "cell_type": "code",
   "execution_count": 22,
   "metadata": {},
   "outputs": [
    {
     "name": "stdout",
     "output_type": "stream",
     "text": [
      "Welcome to DTU\n"
     ]
    }
   ],
   "source": [
    "print(\"Welcome to DTU\")\n",
    "dtu=DTU()"
   ]
  },
  {
   "cell_type": "code",
   "execution_count": 28,
   "metadata": {},
   "outputs": [
    {
     "name": "stdout",
     "output_type": "stream",
     "text": [
      "-----MENU-----\n",
      "[1] Show all sources\n",
      "\n",
      "[2] Select source\n",
      "\n",
      "[3] Select Destination\n",
      "\n",
      "[4] Transfer content\n",
      "\n",
      "[5] Exit\n",
      "\n",
      "Please select an option: 7\n",
      "--------------\n",
      "Bye for now!\n"
     ]
    }
   ],
   "source": [
    "while(True):\n",
    "    ch=dtu.showMenu()\n",
    "    \n",
    "    #Exit condition\n",
    "    if ch not in [1,2,3,4]:\n",
    "        print(\"Bye for now!\")\n",
    "        break\n",
    "    \n",
    "    #On choice selected\n",
    "    dtu.choiceSelected(ch)\n",
    "    input(\"press [ENTER] to continue\")\n",
    "    clear_output()"
   ]
  },
  {
   "cell_type": "code",
   "execution_count": null,
   "metadata": {},
   "outputs": [],
   "source": []
  }
 ],
 "metadata": {
  "kernelspec": {
   "display_name": "Python 3",
   "language": "python",
   "name": "python3"
  },
  "language_info": {
   "codemirror_mode": {
    "name": "ipython",
    "version": 3
   },
   "file_extension": ".py",
   "mimetype": "text/x-python",
   "name": "python",
   "nbconvert_exporter": "python",
   "pygments_lexer": "ipython3",
   "version": "3.7.0"
  }
 },
 "nbformat": 4,
 "nbformat_minor": 2
}
