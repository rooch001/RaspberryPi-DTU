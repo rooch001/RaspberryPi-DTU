{
 "cells": [
  {
   "cell_type": "code",
   "execution_count": 15,
   "metadata": {},
   "outputs": [
    {
     "name": "stdout",
     "output_type": "stream",
     "text": [
      ".DS_Store\n",
      "posts\n",
      "kjfbad\n",
      "('Time-Elapsed : ', 66.03216886520386, 'sec.')\n"
     ]
    }
   ],
   "source": [
    "# source = \"D:\\\\sourceDir\\\\temp\"\n",
    "# for f in files:\n",
    "#     ss = zipfile.ZipFile(sourceDir,'w',zipfile.ZIP_DEFLATED)\n",
    "#     ss.write(source+ \"\\\\\"+ f, os.path.basename(sourceDir))\n",
    "# print(ss)\n",
    "# ss.close()\n",
    "import os\n",
    "import shutil \n",
    "from timeit import default_timer as timer\n",
    "def testDataTranferUtility():\n",
    "    start = timer()\n",
    "    files = os.listdir(\"/Users/kamaljain/Desktop/posts2\")\n",
    "    destinationDir = \"/Users/kamaljain/Desktop/test\"\n",
    "    sourceDir = \"/Users/kamaljain/Desktop/posts2\"\n",
    "    # paste commented code here\n",
    "    try:\n",
    "        for f in files:\n",
    "            print(f)\n",
    "            if os.path.isdir(sourceDir + '/' + f):\n",
    "                print(\"kjfbad\")\n",
    "                shutil.copytree(sourceDir + \"/\"+ f,destinationDir + \"/\"+ str(f))\n",
    "    except Exception as e:\n",
    "        print(e)\n",
    "    end = timer()\n",
    "    print(\"Time-Elapsed : \" ,end - start,\"sec.\")\n",
    "\n",
    "testDataTranferUtility()"
   ]
  },
  {
   "cell_type": "code",
   "execution_count": null,
   "metadata": {},
   "outputs": [],
   "source": []
  }
 ],
 "metadata": {
  "kernelspec": {
   "display_name": "Python 2",
   "language": "python",
   "name": "python2"
  },
  "language_info": {
   "codemirror_mode": {
    "name": "ipython",
    "version": 2
   },
   "file_extension": ".py",
   "mimetype": "text/x-python",
   "name": "python",
   "nbconvert_exporter": "python",
   "pygments_lexer": "ipython2",
   "version": "2.7.15"
  }
 },
 "nbformat": 4,
 "nbformat_minor": 2
}
