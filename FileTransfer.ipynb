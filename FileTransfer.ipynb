{
 "cells": [
  {
   "cell_type": "code",
   "execution_count": 64,
   "metadata": {},
   "outputs": [
    {
     "name": "stderr",
     "output_type": "stream",
     "text": [
      "  0%|                                                                                       | 0/100 [00:00<?, ?KB/s]\n"
     ]
    },
    {
     "name": "stdout",
     "output_type": "stream",
     "text": [
      "[Errno 13] Permission denied: 'D:\\\\sourceDir\\\\SOURCE\\\\temp'\n",
      "Time-Elapsed :  0.0050469999987399206 sec.\n"
     ]
    }
   ],
   "source": [
    "import os\n",
    "import shutil \n",
    "import progressbar\n",
    "from timeit import default_timer as timer\n",
    "from tqdm import tqdm\n",
    "\n",
    "def testDataTranferUtility():\n",
    "    start = timer()\n",
    "    files = os.listdir(\"D:\\\\sourceDir\\\\SOURCE\")\n",
    "    destinationDir = \"D:\\\\sourceDir\\\\DESTINATION\"\n",
    "    sourceDir = \"D:\\\\sourceDir\\\\SOURCE\"\n",
    "    try:\n",
    "        for f in files:\n",
    "            for i in tqdm(range(100),unit = 'KB'):\n",
    "                shutil.copyfile(sourceDir + \"\\\\\"+ f,destinationDir + \"\\\\\"+ str(f))\n",
    "    except Exception as e:\n",
    "        print(e)\n",
    "                \n",
    "    end = timer()\n",
    "    print(\"Time-Elapsed : \" ,end - start,\"sec.\")\n",
    "\n",
    "testDataTranferUtility()"
   ]
  },
  {
   "cell_type": "code",
   "execution_count": null,
   "metadata": {},
   "outputs": [],
   "source": []
  }
 ],
 "metadata": {
  "kernelspec": {
   "display_name": "Python 3",
   "language": "python",
   "name": "python3"
  },
  "language_info": {
   "codemirror_mode": {
    "name": "ipython",
    "version": 3
   },
   "file_extension": ".py",
   "mimetype": "text/x-python",
   "name": "python",
   "nbconvert_exporter": "python",
   "pygments_lexer": "ipython3",
   "version": "3.6.5"
  }
 },
 "nbformat": 4,
 "nbformat_minor": 2
}
